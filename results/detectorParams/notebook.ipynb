version https://git-lfs.github.com/spec/v1
oid sha256:b61709c1d22c4846b6d97552132e76a0b3c13da5412c2290c3244b4c1b4332b3
size 1438830
