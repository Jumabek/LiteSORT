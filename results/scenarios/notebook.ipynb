version https://git-lfs.github.com/spec/v1
oid sha256:42c7d039b96cbffd512a9596fc83ffbd1fa6c1a4a7d5ff95647cc27cc83368bd
size 235794
